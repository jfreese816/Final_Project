{
 "cells": [
  {
   "cell_type": "markdown",
   "id": "1c4dad70",
   "metadata": {},
   "source": [
    "# Text Preprocessing in NLP\n",
    "Tokenize Text Columns Into Sentences"
   ]
  },
  {
   "cell_type": "code",
   "execution_count": 1,
   "id": "f89f099b",
   "metadata": {},
   "outputs": [],
   "source": [
    "# Required libraries\n",
    "\n",
    "# [pip install spacy](https://pypi.org/project/spacy/)\n",
    "\n",
    "# Input the following into gitbash: \"python -m spacy download en_core_web_sm\"\n",
    "# !pip install spacy\n",
    "# !python -m spacy download en_core_web_sm\n",
    "# !conda install -c anaconda nltk"
   ]
  },
  {
   "cell_type": "code",
   "execution_count": 2,
   "id": "a0eb126d",
   "metadata": {},
   "outputs": [],
   "source": [
    "# Import Dependencies and setup\n",
    "import pandas as pd\n",
    "import spacy\n",
    "import nltk\n",
    "import os"
   ]
  },
  {
   "cell_type": "code",
   "execution_count": 3,
   "id": "a085e980",
   "metadata": {},
   "outputs": [
    {
     "data": {
      "text/html": [
       "<div>\n",
       "<style scoped>\n",
       "    .dataframe tbody tr th:only-of-type {\n",
       "        vertical-align: middle;\n",
       "    }\n",
       "\n",
       "    .dataframe tbody tr th {\n",
       "        vertical-align: top;\n",
       "    }\n",
       "\n",
       "    .dataframe thead th {\n",
       "        text-align: right;\n",
       "    }\n",
       "</style>\n",
       "<table border=\"1\" class=\"dataframe\">\n",
       "  <thead>\n",
       "    <tr style=\"text-align: right;\">\n",
       "      <th></th>\n",
       "      <th>Unnamed: 0</th>\n",
       "      <th>Unnamed: 0.1</th>\n",
       "      <th>author</th>\n",
       "      <th>shortcode</th>\n",
       "      <th>timestamp</th>\n",
       "      <th>likes</th>\n",
       "      <th>comments</th>\n",
       "      <th>caption</th>\n",
       "      <th>text</th>\n",
       "      <th>Hash_tag2</th>\n",
       "    </tr>\n",
       "  </thead>\n",
       "  <tbody>\n",
       "    <tr>\n",
       "      <th>0</th>\n",
       "      <td>0</td>\n",
       "      <td>0</td>\n",
       "      <td>shmee150</td>\n",
       "      <td>CSzoxcyrzj2</td>\n",
       "      <td>1629485286</td>\n",
       "      <td>19080</td>\n",
       "      <td>49</td>\n",
       "      <td>Photo shared by Tim - Shmee on August 20, 2021...</td>\n",
       "      <td>Back at the wheel of an SF90! With @bannedauto...</td>\n",
       "      <td>[['Ferrari'], ['SF90'], ['futureshmeemobile'],...</td>\n",
       "    </tr>\n",
       "    <tr>\n",
       "      <th>1</th>\n",
       "      <td>1</td>\n",
       "      <td>1</td>\n",
       "      <td>shmee150</td>\n",
       "      <td>CSr2jQPjy59</td>\n",
       "      <td>1629224075</td>\n",
       "      <td>22143</td>\n",
       "      <td>100</td>\n",
       "      <td>Photo shared by Tim - Shmee on August 17, 2021...</td>\n",
       "      <td>It's a P1 kinda day! Out for a drive in @super...</td>\n",
       "      <td>[['McLaren'], ['P1'], ['McLarenP1'], ['testdri...</td>\n",
       "    </tr>\n",
       "  </tbody>\n",
       "</table>\n",
       "</div>"
      ],
      "text/plain": [
       "   Unnamed: 0  Unnamed: 0.1    author    shortcode   timestamp  likes  \\\n",
       "0           0             0  shmee150  CSzoxcyrzj2  1629485286  19080   \n",
       "1           1             1  shmee150  CSr2jQPjy59  1629224075  22143   \n",
       "\n",
       "   comments                                            caption  \\\n",
       "0        49  Photo shared by Tim - Shmee on August 20, 2021...   \n",
       "1       100  Photo shared by Tim - Shmee on August 17, 2021...   \n",
       "\n",
       "                                                text  \\\n",
       "0  Back at the wheel of an SF90! With @bannedauto...   \n",
       "1  It's a P1 kinda day! Out for a drive in @super...   \n",
       "\n",
       "                                           Hash_tag2  \n",
       "0  [['Ferrari'], ['SF90'], ['futureshmeemobile'],...  \n",
       "1  [['McLaren'], ['P1'], ['McLarenP1'], ['testdri...  "
      ]
     },
     "execution_count": 3,
     "metadata": {},
     "output_type": "execute_result"
    }
   ],
   "source": [
    "# read csv output from Instagrapy_split_text.ipynb\n",
    "df=pd.read_csv(\"../../resources/ig_datascrape_jc_2021-08-25.csv\", encoding=\"ISO 8859-1\")\n",
    "df.head(2)"
   ]
  },
  {
   "cell_type": "markdown",
   "id": "f021fe51",
   "metadata": {},
   "source": [
    "## Data Cleaning Steps"
   ]
  },
  {
   "cell_type": "code",
   "execution_count": 4,
   "id": "a4848da1",
   "metadata": {},
   "outputs": [
    {
     "data": {
      "text/plain": [
       "Unnamed: 0               int64\n",
       "Unnamed: 0.1             int64\n",
       "author                  object\n",
       "shortcode               object\n",
       "timestamp       datetime64[ns]\n",
       "likes                    int64\n",
       "comments                 int64\n",
       "caption                 string\n",
       "text                    string\n",
       "Hash_tag2               string\n",
       "dtype: object"
      ]
     },
     "execution_count": 4,
     "metadata": {},
     "output_type": "execute_result"
    }
   ],
   "source": [
    "# convert epoch time to datetime\n",
    "df['timestamp'] = pd.to_datetime(df['timestamp'],unit='s')\n",
    "\n",
    "# force change, of specified column type, to string.\n",
    "df.text = df.text.astype('string')\n",
    "df.caption = df.caption.astype('string')\n",
    "df.Hash_tag2 = df.Hash_tag2.astype('string')\n",
    "\n",
    "df.dtypes  # verify string change"
   ]
  },
  {
   "cell_type": "markdown",
   "id": "db347c77",
   "metadata": {},
   "source": [
    "### Punctuation Removal\n",
    "** Currently causing issues with sentence segmentation"
   ]
  },
  {
   "cell_type": "code",
   "execution_count": 5,
   "id": "95237227",
   "metadata": {},
   "outputs": [
    {
     "data": {
      "text/plain": [
       "'!\"#$%&\\'()*+,-./:;<=>?@[\\\\]^_`{|}~'"
      ]
     },
     "execution_count": 5,
     "metadata": {},
     "output_type": "execute_result"
    }
   ],
   "source": [
    "# library that contains punctuation\n",
    "import string\n",
    "string.punctuation"
   ]
  },
  {
   "cell_type": "markdown",
   "id": "4416058a",
   "metadata": {},
   "source": [
    "The following script removes \"@\". Do we need to modify the script to keep it? If so, we will have to use Regex to more finely tune the punctuation removal."
   ]
  },
  {
   "cell_type": "code",
   "execution_count": 6,
   "id": "77f79bbc",
   "metadata": {},
   "outputs": [
    {
     "data": {
      "text/html": [
       "<div>\n",
       "<style scoped>\n",
       "    .dataframe tbody tr th:only-of-type {\n",
       "        vertical-align: middle;\n",
       "    }\n",
       "\n",
       "    .dataframe tbody tr th {\n",
       "        vertical-align: top;\n",
       "    }\n",
       "\n",
       "    .dataframe thead th {\n",
       "        text-align: right;\n",
       "    }\n",
       "</style>\n",
       "<table border=\"1\" class=\"dataframe\">\n",
       "  <thead>\n",
       "    <tr style=\"text-align: right;\">\n",
       "      <th></th>\n",
       "      <th>Unnamed: 0</th>\n",
       "      <th>Unnamed: 0.1</th>\n",
       "      <th>author</th>\n",
       "      <th>shortcode</th>\n",
       "      <th>timestamp</th>\n",
       "      <th>likes</th>\n",
       "      <th>comments</th>\n",
       "      <th>caption</th>\n",
       "      <th>text</th>\n",
       "      <th>Hash_tag2</th>\n",
       "      <th>clean_txt</th>\n",
       "    </tr>\n",
       "  </thead>\n",
       "  <tbody>\n",
       "    <tr>\n",
       "      <th>0</th>\n",
       "      <td>0</td>\n",
       "      <td>0</td>\n",
       "      <td>shmee150</td>\n",
       "      <td>CSzoxcyrzj2</td>\n",
       "      <td>2021-08-20 18:48:06</td>\n",
       "      <td>19080</td>\n",
       "      <td>49</td>\n",
       "      <td>Photo shared by Tim - Shmee on August 20, 2021...</td>\n",
       "      <td>Back at the wheel of an SF90! With @bannedauto...</td>\n",
       "      <td>[['Ferrari'], ['SF90'], ['futureshmeemobile'],...</td>\n",
       "      <td>['Back at the wheel of an SF90 With bannedauto...</td>\n",
       "    </tr>\n",
       "    <tr>\n",
       "      <th>1</th>\n",
       "      <td>1</td>\n",
       "      <td>1</td>\n",
       "      <td>shmee150</td>\n",
       "      <td>CSr2jQPjy59</td>\n",
       "      <td>2021-08-17 18:14:35</td>\n",
       "      <td>22143</td>\n",
       "      <td>100</td>\n",
       "      <td>Photo shared by Tim - Shmee on August 17, 2021...</td>\n",
       "      <td>It's a P1 kinda day! Out for a drive in @super...</td>\n",
       "      <td>[['McLaren'], ['P1'], ['McLarenP1'], ['testdri...</td>\n",
       "      <td>['Its a P1 kinda day Out for a drive in superc...</td>\n",
       "    </tr>\n",
       "    <tr>\n",
       "      <th>2</th>\n",
       "      <td>2</td>\n",
       "      <td>2</td>\n",
       "      <td>shmee150</td>\n",
       "      <td>CSpWzdxJIIV</td>\n",
       "      <td>2021-08-16 18:58:41</td>\n",
       "      <td>21606</td>\n",
       "      <td>130</td>\n",
       "      <td>Photo shared by Tim - Shmee on August 16, 2021...</td>\n",
       "      <td>The beautiful 300SL Roadster is without a shad...</td>\n",
       "      <td>[['Mercedes'], ['300SL'], ['PebbleBeach'], ['C...</td>\n",
       "      <td>['The beautiful 300SL Roadster is without a sh...</td>\n",
       "    </tr>\n",
       "    <tr>\n",
       "      <th>3</th>\n",
       "      <td>3</td>\n",
       "      <td>3</td>\n",
       "      <td>shmee150</td>\n",
       "      <td>CSkdxyJAk2n</td>\n",
       "      <td>2021-08-14 21:23:26</td>\n",
       "      <td>30069</td>\n",
       "      <td>113</td>\n",
       "      <td>Photo shared by Tim - Shmee on August 14, 2021...</td>\n",
       "      <td>The breathtaking @bugatti Bolide at @thequaile...</td>\n",
       "      <td>[['Bugatti'], ['Bolide'], ['Quail'], ['CarWeek...</td>\n",
       "      <td>['The breathtaking bugatti Bolide at thequaile...</td>\n",
       "    </tr>\n",
       "    <tr>\n",
       "      <th>4</th>\n",
       "      <td>4</td>\n",
       "      <td>4</td>\n",
       "      <td>shmee150</td>\n",
       "      <td>CSfHSEzi3BD</td>\n",
       "      <td>2021-08-12 19:30:39</td>\n",
       "      <td>34073</td>\n",
       "      <td>140</td>\n",
       "      <td>Photo shared by Tim - Shmee on August 12, 2021...</td>\n",
       "      <td>The new @astonmartinlagonda Valkyrie Spider ha...</td>\n",
       "      <td>[['AstonMartin'], ['Valkyrie'], ['ValkyrieSpid...</td>\n",
       "      <td>['The new astonmartinlagonda Valkyrie Spider h...</td>\n",
       "    </tr>\n",
       "  </tbody>\n",
       "</table>\n",
       "</div>"
      ],
      "text/plain": [
       "   Unnamed: 0  Unnamed: 0.1    author    shortcode           timestamp  likes  \\\n",
       "0           0             0  shmee150  CSzoxcyrzj2 2021-08-20 18:48:06  19080   \n",
       "1           1             1  shmee150  CSr2jQPjy59 2021-08-17 18:14:35  22143   \n",
       "2           2             2  shmee150  CSpWzdxJIIV 2021-08-16 18:58:41  21606   \n",
       "3           3             3  shmee150  CSkdxyJAk2n 2021-08-14 21:23:26  30069   \n",
       "4           4             4  shmee150  CSfHSEzi3BD 2021-08-12 19:30:39  34073   \n",
       "\n",
       "   comments                                            caption  \\\n",
       "0        49  Photo shared by Tim - Shmee on August 20, 2021...   \n",
       "1       100  Photo shared by Tim - Shmee on August 17, 2021...   \n",
       "2       130  Photo shared by Tim - Shmee on August 16, 2021...   \n",
       "3       113  Photo shared by Tim - Shmee on August 14, 2021...   \n",
       "4       140  Photo shared by Tim - Shmee on August 12, 2021...   \n",
       "\n",
       "                                                text  \\\n",
       "0  Back at the wheel of an SF90! With @bannedauto...   \n",
       "1  It's a P1 kinda day! Out for a drive in @super...   \n",
       "2  The beautiful 300SL Roadster is without a shad...   \n",
       "3  The breathtaking @bugatti Bolide at @thequaile...   \n",
       "4  The new @astonmartinlagonda Valkyrie Spider ha...   \n",
       "\n",
       "                                           Hash_tag2  \\\n",
       "0  [['Ferrari'], ['SF90'], ['futureshmeemobile'],...   \n",
       "1  [['McLaren'], ['P1'], ['McLarenP1'], ['testdri...   \n",
       "2  [['Mercedes'], ['300SL'], ['PebbleBeach'], ['C...   \n",
       "3  [['Bugatti'], ['Bolide'], ['Quail'], ['CarWeek...   \n",
       "4  [['AstonMartin'], ['Valkyrie'], ['ValkyrieSpid...   \n",
       "\n",
       "                                           clean_txt  \n",
       "0  ['Back at the wheel of an SF90 With bannedauto...  \n",
       "1  ['Its a P1 kinda day Out for a drive in superc...  \n",
       "2  ['The beautiful 300SL Roadster is without a sh...  \n",
       "3  ['The breathtaking bugatti Bolide at thequaile...  \n",
       "4  ['The new astonmartinlagonda Valkyrie Spider h...  "
      ]
     },
     "execution_count": 6,
     "metadata": {},
     "output_type": "execute_result"
    }
   ],
   "source": [
    "# defining the function to remove punctuation\n",
    "def remove_punctuation(text):\n",
    "    punctuationfree=\"\".join([i for i in text if i not in string.punctuation])\n",
    "    return punctuationfree\n",
    "\n",
    "# storing the puntuation free text in a new column\n",
    "df['clean_txt']= df['text'].apply(lambda x: [remove_punctuation(str(x))])\n",
    "df.clean_txt = df.clean_txt.astype('string')\n",
    "df.head()"
   ]
  },
  {
   "cell_type": "code",
   "execution_count": 7,
   "id": "bb832589",
   "metadata": {},
   "outputs": [
    {
     "name": "stdout",
     "output_type": "stream",
     "text": [
      "['Back at the wheel of an SF90 With bannedauto and philwilson Im checking out this stunning Assetto Fiorano car and thinking about the final spec Ill opt for mine which actually needs to be locked next month Im also delighted to say that again the car has impressed me I think its one of the very best supercars currently on the market mixing insane performance with new technology in such a seamless way Needless to say Im quite excited about it Ferrari SF90 futureshmeemobile AssettoFiorano BannedAuto LAcars Shmee150']\n"
     ]
    }
   ],
   "source": [
    "# drop Unnamed columns\n",
    "df =df.drop(['Unnamed: 0.1'], axis=1)\n",
    "df = df.reset_index(drop=True)\n",
    "\n",
    "# verify above scripts work. assign first_text to first row's \"txt_lower\" column\n",
    "# all punctuations now removed, and words in lower case\n",
    "ig_text = df.loc[0, \"clean_txt\"]   ##** Punc_changes. changed from text to \"clean_text\"\n",
    "print(ig_text)"
   ]
  },
  {
   "cell_type": "code",
   "execution_count": 8,
   "id": "7bee1d3f",
   "metadata": {},
   "outputs": [
    {
     "data": {
      "text/html": [
       "<div>\n",
       "<style scoped>\n",
       "    .dataframe tbody tr th:only-of-type {\n",
       "        vertical-align: middle;\n",
       "    }\n",
       "\n",
       "    .dataframe tbody tr th {\n",
       "        vertical-align: top;\n",
       "    }\n",
       "\n",
       "    .dataframe thead th {\n",
       "        text-align: right;\n",
       "    }\n",
       "</style>\n",
       "<table border=\"1\" class=\"dataframe\">\n",
       "  <thead>\n",
       "    <tr style=\"text-align: right;\">\n",
       "      <th></th>\n",
       "      <th>Unnamed: 0</th>\n",
       "      <th>author</th>\n",
       "      <th>shortcode</th>\n",
       "      <th>timestamp</th>\n",
       "      <th>likes</th>\n",
       "      <th>comments</th>\n",
       "      <th>caption</th>\n",
       "      <th>text</th>\n",
       "      <th>Hash_tag2</th>\n",
       "      <th>clean_txt</th>\n",
       "    </tr>\n",
       "  </thead>\n",
       "  <tbody>\n",
       "    <tr>\n",
       "      <th>0</th>\n",
       "      <td>0</td>\n",
       "      <td>shmee150</td>\n",
       "      <td>CSzoxcyrzj2</td>\n",
       "      <td>2021-08-20 18:48:06</td>\n",
       "      <td>19080</td>\n",
       "      <td>49</td>\n",
       "      <td>Photo shared by Tim - Shmee on August 20, 2021...</td>\n",
       "      <td>Back at the wheel of an SF90! With @bannedauto...</td>\n",
       "      <td>[['Ferrari'], ['SF90'], ['futureshmeemobile'],...</td>\n",
       "      <td>['Back at the wheel of an SF90 With bannedauto...</td>\n",
       "    </tr>\n",
       "    <tr>\n",
       "      <th>1</th>\n",
       "      <td>1</td>\n",
       "      <td>shmee150</td>\n",
       "      <td>CSr2jQPjy59</td>\n",
       "      <td>2021-08-17 18:14:35</td>\n",
       "      <td>22143</td>\n",
       "      <td>100</td>\n",
       "      <td>Photo shared by Tim - Shmee on August 17, 2021...</td>\n",
       "      <td>It's a P1 kinda day! Out for a drive in @super...</td>\n",
       "      <td>[['McLaren'], ['P1'], ['McLarenP1'], ['testdri...</td>\n",
       "      <td>['Its a P1 kinda day Out for a drive in superc...</td>\n",
       "    </tr>\n",
       "  </tbody>\n",
       "</table>\n",
       "</div>"
      ],
      "text/plain": [
       "   Unnamed: 0    author    shortcode           timestamp  likes  comments  \\\n",
       "0           0  shmee150  CSzoxcyrzj2 2021-08-20 18:48:06  19080        49   \n",
       "1           1  shmee150  CSr2jQPjy59 2021-08-17 18:14:35  22143       100   \n",
       "\n",
       "                                             caption  \\\n",
       "0  Photo shared by Tim - Shmee on August 20, 2021...   \n",
       "1  Photo shared by Tim - Shmee on August 17, 2021...   \n",
       "\n",
       "                                                text  \\\n",
       "0  Back at the wheel of an SF90! With @bannedauto...   \n",
       "1  It's a P1 kinda day! Out for a drive in @super...   \n",
       "\n",
       "                                           Hash_tag2  \\\n",
       "0  [['Ferrari'], ['SF90'], ['futureshmeemobile'],...   \n",
       "1  [['McLaren'], ['P1'], ['McLarenP1'], ['testdri...   \n",
       "\n",
       "                                           clean_txt  \n",
       "0  ['Back at the wheel of an SF90 With bannedauto...  \n",
       "1  ['Its a P1 kinda day Out for a drive in superc...  "
      ]
     },
     "execution_count": 8,
     "metadata": {},
     "output_type": "execute_result"
    }
   ],
   "source": [
    "# verify \"Unammed 0.1\" was dropped\n",
    "df.head(2)"
   ]
  },
  {
   "cell_type": "markdown",
   "id": "86863463",
   "metadata": {},
   "source": [
    "### Tokenization"
   ]
  },
  {
   "cell_type": "markdown",
   "id": "8cbe5dd3",
   "metadata": {},
   "source": [
    "Resources to better understand text preprocessing\n",
    "<br>\n",
    "[Tokenize Text Columns Into Sentences in Pandas](https://towardsdatascience.com/tokenize-text-columns-into-sentences-in-pandas-2c08bc1ca790)\n",
    "<br>\n",
    "Note that v3 of spacy replaces \"nlp.create_pipe\", with \"nlp.add_pipe('sentencizer')\""
   ]
  },
  {
   "cell_type": "markdown",
   "id": "0b69ebfc",
   "metadata": {},
   "source": [
    "Sentencizer is a pipeline component for rules-based sentence segmentation\n",
    "[spacy boundry detection](https://spacy.io/api/sentencizer). Customization option includes creation of custom list of punctuation characters that mark sentence ends."
   ]
  },
  {
   "cell_type": "code",
   "execution_count": 9,
   "id": "9b829ef5",
   "metadata": {},
   "outputs": [
    {
     "data": {
      "text/plain": [
       "[\"['Back at the wheel of an SF90 With bannedauto and philwilson Im checking out this stunning Assetto Fiorano car and thinking about the final spec Ill opt for mine which actually needs to be locked next month Im also delighted to say that again the car has impressed me I think its one of the very best supercars currently on the market mixing insane performance with new technology in such a seamless way Needless to say Im quite excited about it Ferrari SF90 futureshmeemobile AssettoFiorano BannedAuto LAcars Shmee150']\"]"
      ]
     },
     "execution_count": 9,
     "metadata": {},
     "output_type": "execute_result"
    }
   ],
   "source": [
    "# Tokenize using spaCy\n",
    "nlp = spacy.load(\"en_core_web_sm\")\n",
    "[sent.text for sent in nlp(ig_text).sents]"
   ]
  },
  {
   "cell_type": "code",
   "execution_count": 10,
   "id": "bf6a9ec6",
   "metadata": {},
   "outputs": [],
   "source": [
    "from spacy.lang.en import English\n",
    "\n",
    "nlp = English()  # just the language with no model\n",
    "sentencizer = nlp.add_pipe('sentencizer')"
   ]
  },
  {
   "cell_type": "code",
   "execution_count": 11,
   "id": "a57bcf32",
   "metadata": {},
   "outputs": [
    {
     "data": {
      "text/plain": [
       "[\"['Back at the wheel of an SF90 With bannedauto and philwilson Im checking out this stunning Assetto Fiorano car and thinking about the final spec Ill opt for mine which actually needs to be locked next month Im also delighted to say that again the car has impressed me I think its one of the very best supercars currently on the market mixing insane performance with new technology in such a seamless way Needless to say Im quite excited about it Ferrari SF90 futureshmeemobile AssettoFiorano BannedAuto LAcars Shmee150']\"]"
      ]
     },
     "execution_count": 11,
     "metadata": {},
     "output_type": "execute_result"
    }
   ],
   "source": [
    "[sent.text for sent in nlp(ig_text).sents]"
   ]
  },
  {
   "cell_type": "code",
   "execution_count": 12,
   "id": "a6b5e00f",
   "metadata": {},
   "outputs": [],
   "source": [
    "# tokenize all data, in column \"text\", using lambda function\n",
    "# this was a pain. some elements were ints or floats, causing mixed returns of a dtype \n",
    "# object type. This stopped the script from filtering it out, returning a \"nlp object \n",
    "# of type 'float' has no len()\". the workaround is to turn everything into a string\n",
    "\n",
    "nlp = spacy.load(\"en_core_web_sm\")\n",
    "df[\"token_txt\"] = df[\"clean_txt\"].apply(lambda x: [sent.text for sent in (nlp(str(x)).sents)])\n",
    "\n",
    "##** Punc_changes. changed from text to \"clean_text\""
   ]
  },
  {
   "cell_type": "code",
   "execution_count": 13,
   "id": "cd9ff598",
   "metadata": {},
   "outputs": [
    {
     "data": {
      "text/html": [
       "<div>\n",
       "<style scoped>\n",
       "    .dataframe tbody tr th:only-of-type {\n",
       "        vertical-align: middle;\n",
       "    }\n",
       "\n",
       "    .dataframe tbody tr th {\n",
       "        vertical-align: top;\n",
       "    }\n",
       "\n",
       "    .dataframe thead th {\n",
       "        text-align: right;\n",
       "    }\n",
       "</style>\n",
       "<table border=\"1\" class=\"dataframe\">\n",
       "  <thead>\n",
       "    <tr style=\"text-align: right;\">\n",
       "      <th></th>\n",
       "      <th>Unnamed: 0</th>\n",
       "      <th>author</th>\n",
       "      <th>shortcode</th>\n",
       "      <th>timestamp</th>\n",
       "      <th>likes</th>\n",
       "      <th>comments</th>\n",
       "      <th>caption</th>\n",
       "      <th>text</th>\n",
       "      <th>Hash_tag2</th>\n",
       "      <th>clean_txt</th>\n",
       "      <th>token_txt</th>\n",
       "    </tr>\n",
       "  </thead>\n",
       "  <tbody>\n",
       "    <tr>\n",
       "      <th>0</th>\n",
       "      <td>0</td>\n",
       "      <td>shmee150</td>\n",
       "      <td>CSzoxcyrzj2</td>\n",
       "      <td>2021-08-20 18:48:06</td>\n",
       "      <td>19080</td>\n",
       "      <td>49</td>\n",
       "      <td>Photo shared by Tim - Shmee on August 20, 2021...</td>\n",
       "      <td>Back at the wheel of an SF90! With @bannedauto...</td>\n",
       "      <td>[['Ferrari'], ['SF90'], ['futureshmeemobile'],...</td>\n",
       "      <td>['Back at the wheel of an SF90 With bannedauto...</td>\n",
       "      <td>['Back at the wheel of an SF90 With bannedauto...</td>\n",
       "    </tr>\n",
       "    <tr>\n",
       "      <th>1</th>\n",
       "      <td>1</td>\n",
       "      <td>shmee150</td>\n",
       "      <td>CSr2jQPjy59</td>\n",
       "      <td>2021-08-17 18:14:35</td>\n",
       "      <td>22143</td>\n",
       "      <td>100</td>\n",
       "      <td>Photo shared by Tim - Shmee on August 17, 2021...</td>\n",
       "      <td>It's a P1 kinda day! Out for a drive in @super...</td>\n",
       "      <td>[['McLaren'], ['P1'], ['McLarenP1'], ['testdri...</td>\n",
       "      <td>['Its a P1 kinda day Out for a drive in superc...</td>\n",
       "      <td>['Its a P1 kinda day Out for a drive in superc...</td>\n",
       "    </tr>\n",
       "  </tbody>\n",
       "</table>\n",
       "</div>"
      ],
      "text/plain": [
       "   Unnamed: 0    author    shortcode           timestamp  likes  comments  \\\n",
       "0           0  shmee150  CSzoxcyrzj2 2021-08-20 18:48:06  19080        49   \n",
       "1           1  shmee150  CSr2jQPjy59 2021-08-17 18:14:35  22143       100   \n",
       "\n",
       "                                             caption  \\\n",
       "0  Photo shared by Tim - Shmee on August 20, 2021...   \n",
       "1  Photo shared by Tim - Shmee on August 17, 2021...   \n",
       "\n",
       "                                                text  \\\n",
       "0  Back at the wheel of an SF90! With @bannedauto...   \n",
       "1  It's a P1 kinda day! Out for a drive in @super...   \n",
       "\n",
       "                                           Hash_tag2  \\\n",
       "0  [['Ferrari'], ['SF90'], ['futureshmeemobile'],...   \n",
       "1  [['McLaren'], ['P1'], ['McLarenP1'], ['testdri...   \n",
       "\n",
       "                                           clean_txt  \\\n",
       "0  ['Back at the wheel of an SF90 With bannedauto...   \n",
       "1  ['Its a P1 kinda day Out for a drive in superc...   \n",
       "\n",
       "                                           token_txt  \n",
       "0  ['Back at the wheel of an SF90 With bannedauto...  \n",
       "1  ['Its a P1 kinda day Out for a drive in superc...  "
      ]
     },
     "execution_count": 13,
     "metadata": {},
     "output_type": "execute_result"
    }
   ],
   "source": [
    "# convert list of sentences to one sentence for each row\n",
    "\n",
    "df = df.explode(\"token_txt\")\n",
    "df.reset_index(drop=True)\n",
    "df.head(2)\n"
   ]
  },
  {
   "cell_type": "markdown",
   "id": "553e9e86",
   "metadata": {},
   "source": [
    "### Lowercase Text Manipulation"
   ]
  },
  {
   "cell_type": "code",
   "execution_count": 14,
   "id": "8b635f2b",
   "metadata": {},
   "outputs": [],
   "source": [
    "# storing all lower case text in a new column, \"txt_lower\". Note this leads to loss of\n",
    "# information that a capital letter may convey, e.g. frustration or excitement.\n",
    "# df['txt_lower']= df['clean_txt'].apply(lambda x: x.lower())"
   ]
  },
  {
   "cell_type": "markdown",
   "id": "de14c080",
   "metadata": {},
   "source": [
    "### Column Name Clean Up"
   ]
  },
  {
   "cell_type": "code",
   "execution_count": 15,
   "id": "b0fe1641",
   "metadata": {},
   "outputs": [
    {
     "data": {
      "text/html": [
       "<div>\n",
       "<style scoped>\n",
       "    .dataframe tbody tr th:only-of-type {\n",
       "        vertical-align: middle;\n",
       "    }\n",
       "\n",
       "    .dataframe tbody tr th {\n",
       "        vertical-align: top;\n",
       "    }\n",
       "\n",
       "    .dataframe thead th {\n",
       "        text-align: right;\n",
       "    }\n",
       "</style>\n",
       "<table border=\"1\" class=\"dataframe\">\n",
       "  <thead>\n",
       "    <tr style=\"text-align: right;\">\n",
       "      <th></th>\n",
       "      <th>Dialogue ID</th>\n",
       "      <th>author</th>\n",
       "      <th>shortcode</th>\n",
       "      <th>timestamp</th>\n",
       "      <th>likes</th>\n",
       "      <th>comments</th>\n",
       "      <th>caption</th>\n",
       "      <th>text</th>\n",
       "      <th>Hash_tag2</th>\n",
       "      <th>clean_txt</th>\n",
       "      <th>token_txt</th>\n",
       "    </tr>\n",
       "    <tr>\n",
       "      <th>Sentence ID</th>\n",
       "      <th></th>\n",
       "      <th></th>\n",
       "      <th></th>\n",
       "      <th></th>\n",
       "      <th></th>\n",
       "      <th></th>\n",
       "      <th></th>\n",
       "      <th></th>\n",
       "      <th></th>\n",
       "      <th></th>\n",
       "      <th></th>\n",
       "    </tr>\n",
       "  </thead>\n",
       "  <tbody>\n",
       "    <tr>\n",
       "      <th>0</th>\n",
       "      <td>0</td>\n",
       "      <td>shmee150</td>\n",
       "      <td>CSzoxcyrzj2</td>\n",
       "      <td>2021-08-20 18:48:06</td>\n",
       "      <td>19080</td>\n",
       "      <td>49</td>\n",
       "      <td>Photo shared by Tim - Shmee on August 20, 2021...</td>\n",
       "      <td>Back at the wheel of an SF90! With @bannedauto...</td>\n",
       "      <td>[['Ferrari'], ['SF90'], ['futureshmeemobile'],...</td>\n",
       "      <td>['Back at the wheel of an SF90 With bannedauto...</td>\n",
       "      <td>['Back at the wheel of an SF90 With bannedauto...</td>\n",
       "    </tr>\n",
       "    <tr>\n",
       "      <th>1</th>\n",
       "      <td>1</td>\n",
       "      <td>shmee150</td>\n",
       "      <td>CSr2jQPjy59</td>\n",
       "      <td>2021-08-17 18:14:35</td>\n",
       "      <td>22143</td>\n",
       "      <td>100</td>\n",
       "      <td>Photo shared by Tim - Shmee on August 17, 2021...</td>\n",
       "      <td>It's a P1 kinda day! Out for a drive in @super...</td>\n",
       "      <td>[['McLaren'], ['P1'], ['McLarenP1'], ['testdri...</td>\n",
       "      <td>['Its a P1 kinda day Out for a drive in superc...</td>\n",
       "      <td>['Its a P1 kinda day Out for a drive in superc...</td>\n",
       "    </tr>\n",
       "  </tbody>\n",
       "</table>\n",
       "</div>"
      ],
      "text/plain": [
       "             Dialogue ID    author    shortcode           timestamp  likes  \\\n",
       "Sentence ID                                                                  \n",
       "0                      0  shmee150  CSzoxcyrzj2 2021-08-20 18:48:06  19080   \n",
       "1                      1  shmee150  CSr2jQPjy59 2021-08-17 18:14:35  22143   \n",
       "\n",
       "             comments                                            caption  \\\n",
       "Sentence ID                                                                \n",
       "0                  49  Photo shared by Tim - Shmee on August 20, 2021...   \n",
       "1                 100  Photo shared by Tim - Shmee on August 17, 2021...   \n",
       "\n",
       "                                                          text  \\\n",
       "Sentence ID                                                      \n",
       "0            Back at the wheel of an SF90! With @bannedauto...   \n",
       "1            It's a P1 kinda day! Out for a drive in @super...   \n",
       "\n",
       "                                                     Hash_tag2  \\\n",
       "Sentence ID                                                      \n",
       "0            [['Ferrari'], ['SF90'], ['futureshmeemobile'],...   \n",
       "1            [['McLaren'], ['P1'], ['McLarenP1'], ['testdri...   \n",
       "\n",
       "                                                     clean_txt  \\\n",
       "Sentence ID                                                      \n",
       "0            ['Back at the wheel of an SF90 With bannedauto...   \n",
       "1            ['Its a P1 kinda day Out for a drive in superc...   \n",
       "\n",
       "                                                     token_txt  \n",
       "Sentence ID                                                     \n",
       "0            ['Back at the wheel of an SF90 With bannedauto...  \n",
       "1            ['Its a P1 kinda day Out for a drive in superc...  "
      ]
     },
     "execution_count": 15,
     "metadata": {},
     "output_type": "execute_result"
    }
   ],
   "source": [
    "df.rename(columns={\"Unnamed: 0\": \"Dialogue ID\"}, inplace=True)\n",
    "df.index.name = \"Sentence ID\"\n",
    "\n",
    "df.head(2)"
   ]
  },
  {
   "cell_type": "code",
   "execution_count": 16,
   "id": "67857c92",
   "metadata": {},
   "outputs": [],
   "source": [
    "df.to_csv(\"../../resources/processed_ig_text_jc_2021-08-26.csv\")"
   ]
  },
  {
   "cell_type": "markdown",
   "id": "085d7302",
   "metadata": {},
   "source": [
    "Need to remove \",\" , \"-\", \"@\", \"#\",  convert conjugations into full words, e.g. isn't."
   ]
  }
 ],
 "metadata": {
  "kernelspec": {
   "display_name": "Python 3",
   "language": "python",
   "name": "python3"
  },
  "language_info": {
   "codemirror_mode": {
    "name": "ipython",
    "version": 3
   },
   "file_extension": ".py",
   "mimetype": "text/x-python",
   "name": "python",
   "nbconvert_exporter": "python",
   "pygments_lexer": "ipython3",
   "version": "3.7.3"
  }
 },
 "nbformat": 4,
 "nbformat_minor": 5
}
